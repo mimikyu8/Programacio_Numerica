{
 "cells": [
  {
   "cell_type": "markdown",
   "id": "6557d218",
   "metadata": {},
   "source": [
    "# Exercici 1"
   ]
  },
  {
   "cell_type": "markdown",
   "id": "b5238267",
   "metadata": {},
   "source": [
    "Crea una funció que donat un Array d’una dimensió, et faci un resum estadístic bàsic de les dades. Si detecta que l’array té més d’una dimensió, ha de mostrar un missatge d’error."
   ]
  },
  {
   "cell_type": "code",
   "execution_count": 52,
   "id": "1587a043",
   "metadata": {},
   "outputs": [],
   "source": [
    "import numpy as np"
   ]
  },
  {
   "cell_type": "code",
   "execution_count": 53,
   "id": "5f613a8c",
   "metadata": {},
   "outputs": [],
   "source": [
    "def resum_array1D(arr):\n",
    "    if arr.ndim == 1:\n",
    "        return \"Mitjana:\", arr.mean(), \"Mediana:\", np.median(arr), \"Desviació estandar:\", np.std(arr)\n",
    "    else:\n",
    "        return \"Error, array de\", arr.ndim, \"dimensions. Introdueix un array d'una dimensió\""
   ]
  },
  {
   "cell_type": "code",
   "execution_count": 54,
   "id": "c9767160",
   "metadata": {},
   "outputs": [
    {
     "data": {
      "text/plain": [
       "('Error, array de', 2, \"dimensions. Introdueix un array d'una dimensió\")"
      ]
     },
     "execution_count": 54,
     "metadata": {},
     "output_type": "execute_result"
    }
   ],
   "source": [
    "arr = np.random.random((2, 2))\n",
    "resum_array1D(arr)"
   ]
  },
  {
   "cell_type": "markdown",
   "id": "1b2b75c7",
   "metadata": {},
   "source": [
    "# Exercici 2"
   ]
  },
  {
   "cell_type": "markdown",
   "id": "ce9d318a",
   "metadata": {},
   "source": [
    "Crea una funció que et generi un quadrat NxN de nombres aleatoris entre el 0 i el 100."
   ]
  },
  {
   "cell_type": "code",
   "execution_count": 55,
   "id": "7eeda23a",
   "metadata": {},
   "outputs": [],
   "source": [
    "def quadrat_aleatori(x):\n",
    "    return np.random.randint(0, 100, size =(x, x))"
   ]
  },
  {
   "cell_type": "code",
   "execution_count": 56,
   "id": "0efcf3e6",
   "metadata": {},
   "outputs": [
    {
     "data": {
      "text/plain": [
       "array([[54,  6, 79, 21, 82],\n",
       "       [30, 37, 51, 46, 19],\n",
       "       [35, 64, 72, 28, 30],\n",
       "       [ 5, 17, 19, 47, 43],\n",
       "       [10,  9, 91, 59, 17]])"
      ]
     },
     "execution_count": 56,
     "metadata": {},
     "output_type": "execute_result"
    }
   ],
   "source": [
    "quadrat_aleatori(5)"
   ]
  },
  {
   "cell_type": "markdown",
   "id": "316f4ebb",
   "metadata": {},
   "source": [
    "# Exercici 3"
   ]
  },
  {
   "cell_type": "markdown",
   "id": "7078149f",
   "metadata": {},
   "source": [
    "Crea una funció que donada una taula de dues dimensions, et calculi els totals per fila i els totals\n",
    "per columna."
   ]
  },
  {
   "cell_type": "code",
   "execution_count": 57,
   "id": "4d6c38c9",
   "metadata": {},
   "outputs": [],
   "source": [
    "def total_fila(arr):\n",
    "    return \"Suma columnes:\", np.sum(arr, axis = 0), \"Suma files:\", np.sum(arr, axis = 1)"
   ]
  },
  {
   "cell_type": "markdown",
   "id": "ffd9e038",
   "metadata": {},
   "source": [
    "# Exercici 4"
   ]
  },
  {
   "cell_type": "markdown",
   "id": "fa30fa3c",
   "metadata": {},
   "source": [
    "Implementa manualment una funció que calculi el coeficient de correlació. Informa’t-en sobre els seus usos i interpretació."
   ]
  },
  {
   "cell_type": "code",
   "execution_count": 58,
   "id": "10c3a5b5",
   "metadata": {},
   "outputs": [],
   "source": [
    "def coef_corr(arr1, arr2 = None):\n",
    "    return np.cov(arr1, arr2) / (np.std(arr1) * np.std(arr2))"
   ]
  }
 ],
 "metadata": {
  "kernelspec": {
   "display_name": "Python 3 (ipykernel)",
   "language": "python",
   "name": "python3"
  },
  "language_info": {
   "codemirror_mode": {
    "name": "ipython",
    "version": 3
   },
   "file_extension": ".py",
   "mimetype": "text/x-python",
   "name": "python",
   "nbconvert_exporter": "python",
   "pygments_lexer": "ipython3",
   "version": "3.9.7"
  },
  "toc": {
   "base_numbering": 1,
   "nav_menu": {},
   "number_sections": true,
   "sideBar": true,
   "skip_h1_title": false,
   "title_cell": "Table of Contents",
   "title_sidebar": "Contents",
   "toc_cell": false,
   "toc_position": {},
   "toc_section_display": true,
   "toc_window_display": false
  }
 },
 "nbformat": 4,
 "nbformat_minor": 5
}
